{
  "nbformat": 4,
  "nbformat_minor": 0,
  "metadata": {
    "colab": {
      "provenance": []
    },
    "kernelspec": {
      "name": "python3",
      "display_name": "Python 3"
    },
    "language_info": {
      "name": "python"
    }
  },
  "cells": [
    {
      "cell_type": "markdown",
      "source": [
        "# Question - 1"
      ],
      "metadata": {
        "id": "DLVqZfnn0eFW"
      }
    },
    {
      "cell_type": "code",
      "source": [
        "import requests\n",
        "\n",
        "url = \"https://bin-ip-checker.p.rapidapi.com/\"\n",
        "\n",
        "querystring = {\"bin\":\"448590\"}\n",
        "\n",
        "payload = { \"bin\": \"448590\" }\n",
        "headers = {\n",
        "\t\"content-type\": \"application/json\",\n",
        "\t\"X-RapidAPI-Key\": \"9656eb69d4msh5e7195c1d9981e0p138545jsnb855a8145f95\",\n",
        "\t\"X-RapidAPI-Host\": \"bin-ip-checker.p.rapidapi.com\"\n",
        "}\n",
        "\n",
        "response = requests.post(url, json=payload, headers=headers, params=querystring)\n",
        "\n",
        "print(response.json())"
      ],
      "metadata": {
        "colab": {
          "base_uri": "https://localhost:8080/"
        },
        "id": "GIKmmNpJ0j3R",
        "outputId": "622c001a-eac8-4105-bacd-2b8c346c48a8"
      },
      "execution_count": 6,
      "outputs": [
        {
          "output_type": "stream",
          "name": "stdout",
          "text": [
            "{'success': True, 'code': 200, 'BIN': {'valid': True, 'number': 448590, 'length': 6, 'scheme': 'VISA', 'brand': 'VISA', 'type': 'CREDIT', 'level': 'PURCHASING WITH FLEET', 'currency': 'USD', 'issuer': {'name': 'JPMORGAN CHASE BANK, N.A.', 'website': 'http://www.jpmorganchase.com', 'phone': '1-212-270-6000'}, 'country': {'name': 'UNITED STATES', 'native': 'United States', 'flag': '??', 'numeric': '840', 'capital': 'Washington, D.C.', 'currency': 'USD', 'currency_symbol': '$', 'region': 'Americas', 'subregion': 'Northern America', 'idd': '1', 'alpha2': 'US', 'alpha3': 'USA', 'language': 'English', 'language_code': 'EN', 'latitude': 34.052571, 'longitude': -118.243907}}}\n"
          ]
        }
      ]
    },
    {
      "cell_type": "code",
      "source": [
        "import requests\n",
        "import json\n",
        "from datetime import datetime\n",
        "\n",
        "# API endpoint and credentials\n",
        "url = \"https://bin-ip-checker.p.rapidapi.com/\"\n",
        "querystring = {\"bin\":\"448590\"}\n",
        "payload = {\"bin\": \"448590\"}\n",
        "headers = {\n",
        "    \"content-type\": \"application/json\",\n",
        "    \"X-RapidAPI-Key\": \"9656eb69d4msh5e7195c1d9981e0p138545jsnb855a8145f95\",\n",
        "    \"X-RapidAPI-Host\": \"bin-ip-checker.p.rapidapi.com\"\n",
        "}\n",
        "\n",
        "# Make the API request\n",
        "response = requests.post(url, json=payload, headers=headers, params=querystring)\n",
        "\n",
        "# Check the response status code\n",
        "if response.status_code == 200:\n",
        "    # Parse the JSON data\n",
        "    data = response.json()\n",
        "\n",
        "    # Extract relevant data and create a simple dashboard\n",
        "    print(\"Dashboard:\")\n",
        "    print(f\"Bank Identification Number (BIN): {data['BIN']['number']}\")\n",
        "    print(f\"Bank Name: {data['BIN']['issuer']['name']}\")\n",
        "    print(f\"Card Type: {data['BIN']['type']}\")\n",
        "    print(f\"Card Level: {data['BIN']['level']}\")\n",
        "    print(f\"Country: {data['BIN']['country']['name']}\")\n",
        "    print(f\"Scheme: {data['BIN']['scheme']}\")\n",
        "    print(f\"Numeric: {data['BIN']['number']}\")\n",
        "    print(f\"Country Code: {data['BIN']['country']['alpha2']}\")\n",
        "    print(f\"Country Latitude: {data['BIN']['country']['latitude']}\")\n",
        "    print(f\"Country Longitude: {data['BIN']['country']['longitude']}\")\n",
        "    print(f\"Request Timestamp: {datetime.now().strftime('%Y-%m-%d %H:%M:%S')}\")\n",
        "else:\n",
        "    print(\"Error: Unable to retrieve data from the API.\")"
      ],
      "metadata": {
        "colab": {
          "base_uri": "https://localhost:8080/"
        },
        "id": "rxMeag145kXj",
        "outputId": "810213bb-ef4b-42a5-8b6d-572b4638bba3"
      },
      "execution_count": 29,
      "outputs": [
        {
          "output_type": "stream",
          "name": "stdout",
          "text": [
            "Dashboard:\n",
            "Bank Identification Number (BIN): 448590\n",
            "Bank Name: JPMORGAN CHASE BANK, N.A.\n",
            "Card Type: CREDIT\n",
            "Card Level: PURCHASING WITH FLEET\n",
            "Country: UNITED STATES\n",
            "Scheme: VISA\n",
            "Numeric: 448590\n",
            "Country Code: US\n",
            "Country Latitude: 34.052571\n",
            "Country Longitude: -118.243907\n",
            "Request Timestamp: 2024-04-17 02:48:47\n"
          ]
        }
      ]
    },
    {
      "cell_type": "code",
      "source": [
        "import requests\n",
        "from tabulate import tabulate\n",
        "\n",
        "# Function to fetch data from the API\n",
        "def fetch_data():\n",
        "    url = \"https://bin-ip-checker.p.rapidapi.com/\"\n",
        "    querystring = {\"bin\": \"448590\"}\n",
        "    payload = {\"bin\": \"448590\"}\n",
        "    headers = {\n",
        "        \"content-type\": \"application/json\",\n",
        "        \"X-RapidAPI-Key\": \"9656eb69d4msh5e7195c1d9981e0p138545jsnb855a8145f95\",\n",
        "        \"X-RapidAPI-Host\": \"bin-ip-checker.p.rapidapi.com\"\n",
        "    }\n",
        "    response = requests.post(url, headers=headers, params=querystring, json=payload)\n",
        "    return response.json()\n",
        "\n",
        "# Function to display dashboard\n",
        "def display_dashboard(data):\n",
        "    bin_info = data.get('BIN')\n",
        "    if bin_info:\n",
        "        table_data = []\n",
        "        table_data.append([\"BIN\", bin_info['number']])\n",
        "        table_data.append([\"Valid\", bin_info['valid']])\n",
        "        table_data.append([\"Length\", bin_info['length']])\n",
        "        table_data.append([\"Scheme\", bin_info['scheme']])\n",
        "        table_data.append([\"Brand\", bin_info['brand']])\n",
        "        table_data.append([\"Type\", bin_info['type']])\n",
        "        table_data.append([\"Level\", bin_info['level']])\n",
        "        table_data.append([\"Currency\", bin_info['currency']])\n",
        "\n",
        "        issuer = bin_info.get('issuer')\n",
        "        if issuer:\n",
        "            table_data.append([\"Issuer Name\", issuer['name']])\n",
        "            table_data.append([\"Issuer Website\", issuer['website']])\n",
        "            table_data.append([\"Issuer Phone\", issuer['phone']])\n",
        "\n",
        "        country = bin_info.get('country')\n",
        "        if country:\n",
        "            table_data.append([\"Country\", country['name']])\n",
        "            table_data.append([\"Native Name\", country['native']])\n",
        "            table_data.append([\"Region\", country['region']])\n",
        "            table_data.append([\"Subregion\", country['subregion']])\n",
        "            table_data.append([\"Capital\", country['capital']])\n",
        "            table_data.append([\"Currency\", country['currency']])\n",
        "            table_data.append([\"Currency Symbol\", country['currency_symbol']])\n",
        "            table_data.append([\"Language\", country['language']])\n",
        "\n",
        "        print(tabulate(table_data, headers=[\"Attribute\", \"Value\"], tablefmt=\"grid\"))\n",
        "    else:\n",
        "        print(\"No BIN information found.\")\n",
        "\n",
        "# Fetch data\n",
        "json_data = fetch_data()\n",
        "\n",
        "# Display dashboard\n",
        "display_dashboard(json_data)"
      ],
      "metadata": {
        "colab": {
          "base_uri": "https://localhost:8080/"
        },
        "id": "0lcAN2BG_PAz",
        "outputId": "fba91749-79cf-41b3-e90d-c90f6ca91d2a"
      },
      "execution_count": 31,
      "outputs": [
        {
          "output_type": "stream",
          "name": "stdout",
          "text": [
            "+-----------------+------------------------------+\n",
            "| Attribute       | Value                        |\n",
            "+=================+==============================+\n",
            "| BIN             | 448590                       |\n",
            "+-----------------+------------------------------+\n",
            "| Valid           | True                         |\n",
            "+-----------------+------------------------------+\n",
            "| Length          | 6                            |\n",
            "+-----------------+------------------------------+\n",
            "| Scheme          | VISA                         |\n",
            "+-----------------+------------------------------+\n",
            "| Brand           | VISA                         |\n",
            "+-----------------+------------------------------+\n",
            "| Type            | CREDIT                       |\n",
            "+-----------------+------------------------------+\n",
            "| Level           | PURCHASING WITH FLEET        |\n",
            "+-----------------+------------------------------+\n",
            "| Currency        | USD                          |\n",
            "+-----------------+------------------------------+\n",
            "| Issuer Name     | JPMORGAN CHASE BANK, N.A.    |\n",
            "+-----------------+------------------------------+\n",
            "| Issuer Website  | http://www.jpmorganchase.com |\n",
            "+-----------------+------------------------------+\n",
            "| Issuer Phone    | 1-212-270-6000               |\n",
            "+-----------------+------------------------------+\n",
            "| Country         | UNITED STATES                |\n",
            "+-----------------+------------------------------+\n",
            "| Native Name     | United States                |\n",
            "+-----------------+------------------------------+\n",
            "| Region          | Americas                     |\n",
            "+-----------------+------------------------------+\n",
            "| Subregion       | Northern America             |\n",
            "+-----------------+------------------------------+\n",
            "| Capital         | Washington, D.C.             |\n",
            "+-----------------+------------------------------+\n",
            "| Currency        | USD                          |\n",
            "+-----------------+------------------------------+\n",
            "| Currency Symbol | $                            |\n",
            "+-----------------+------------------------------+\n",
            "| Language        | English                      |\n",
            "+-----------------+------------------------------+\n"
          ]
        }
      ]
    }
  ]
}